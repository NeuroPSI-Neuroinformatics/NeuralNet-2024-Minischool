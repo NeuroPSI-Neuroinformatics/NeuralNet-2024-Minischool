{
 "cells": [
  {
   "cell_type": "markdown",
   "id": "ff4374a2",
   "metadata": {},
   "source": [
    "# Case study for data reuse with EBRAINS Knowledge Graph: A step-by-step explanation \n",
    "\n",
    "Alix E.Bonard, Laura Morel and Peyman Najafi\n",
    "\n",
    "Paris-Saclay Institute of Neuroscience, CNRS, Université Paris-Saclay, France.\n",
    "\n",
    "November 2024, NeuralNet2024 - Minischool - Hands-on case studies for data reuse \n"
   ]
  },
  {
   "cell_type": "markdown",
   "id": "505f0625",
   "metadata": {},
   "source": [
    "In this notebook we will look more closely at the EBRAINS dataset \"[Excitability profile of CA1 pyramidal neurons in APPPS1 Alzheimer disease mice and control littermates (v1)](https://search.kg.ebrains.eu/#bd5f91ff-e829-4b85-92eb-fc56991541f1)\", contributed by Ana Rita Salgueiro-Pereira and Hélène Marie from the Université Côte d’Azur in Valbonne, France.\n",
    "\n",
    "As we can see from the dataset description,\n",
    "\n",
    "<i>This dataset provides an analysis of the intrinsic electrophysiological properties of CA1 excitatory hippocampal\n",
    "neurons in a mouse model of Alzheimer’s Disease (AD) at two age points: a presymptomatic age (3-4\n",
    "months) and a symptomatic age: (9-10 months).</i>\n",
    "More information is available in the [Data Descriptor](https://search.kg.ebrains.eu/instances/bd5f91ff-e829-4b85-92eb-fc56991541f1).\n",
    "\n",
    "This dataset forms part of the results reported in Vitale, P., Salgueiro-Pereira, A. R., Lupascu, C. A., Willem, M., Migliore, R., Migliore, M., & Marie, H.(2021) Analysis of Age-Dependent Alterations in Excitability Properties of CA1 Pyramidal Neurons in an APPPS1 Model of Alzheimer’s Disease. *Frontiers in Aging Neuroscience* **13** https://doi.org/10.3389/fnagi.2021.668948\n",
    "\n",
    "This notebook was modified from [Studies of data reuse: Excitability profile of CA1 pyramidal neurons in APPPS1 Alzheimer disease mice and control littermates](https://github.com/NeuroPSI-Neuroinformatics/case-studies-for-data-reuse/blob/main/10.25493-YJFW-HPY/SalgueiroPereiraMarie2020.ipynb) by Isaure Botherel and Andrew P.Davison. \n"
   ]
  },
  {
   "cell_type": "markdown",
   "id": "29b1ff01",
   "metadata": {},
   "source": [
    "**In this notebook we will demonstrate how to access, to explore and to reuse the data from this study using fairgraph and neo packages. We will also visualize the data with matplotlib by focusing on providing detailed information for data reuse.**"
   ]
  },
  {
   "cell_type": "markdown",
   "id": "0b7f2e75",
   "metadata": {},
   "source": [
    "### Finding a dataset"
   ]
  },
  {
   "cell_type": "markdown",
   "id": "ef186419",
   "metadata": {},
   "source": [
    "This section aims to teach users how to programatically or manually find and retrieve datasets with specific metadata on the EBRAINS Knowledge Graph (KG). The following tools will be used:\n",
    "- the python library fairgraph\n",
    "- the EBRAINS website KGSearch\n",
    "- the EBRAINS website KGQueryBuilder"
   ]
  },
  {
   "cell_type": "markdown",
   "id": "6f120138",
   "metadata": {},
   "source": [
    "#### Using [KGSearch](https://search.kg.ebrains.eu/?category=Dataset)"
   ]
  },
  {
   "cell_type": "markdown",
   "id": "f8f83130",
   "metadata": {},
   "source": [
    "[KGSearch](https://search.kg.ebrains.eu/?category=Dataset) is a quick and easy way to browse EBRAINS datasets. Once a dataset is selected, users can use the Python library [fairgraph](https://github.com/HumanBrainProject/fairgraph) to download the dataset and/or see its metadata using its client. Since we are already working in a Jupyter lab linked to our EBRAINS account, we simply need to create a client object **KGClient** to be able to retrieve metadata on the KG. For more instructions on how to use fairgraph in other environments, please refer to the github page linked above."
   ]
  },
  {
   "cell_type": "code",
   "execution_count": 1,
   "id": "5be87896",
   "metadata": {},
   "outputs": [],
   "source": [
    "from fairgraph import KGClient\n",
    "kg_client = KGClient()"
   ]
  },
  {
   "cell_type": "markdown",
   "id": "e6c81e9f",
   "metadata": {},
   "source": [
    "**EXERCISE**\\\n",
    "To familiarize ourselves with KGSearch, let us try to find a dataset with the following characteristics:\n",
    "- Technique used is **whole-cell patch clamp**\n",
    "- Cell type is **CA1 pyramidal neurons**\n",
    "- Sujects are **model mice for Alzheimer's disease**\n",
    "\n",
    "Those parameters should lead you to [this dataset](https://search.kg.ebrains.eu/instances/bd5f91ff-e829-4b85-92eb-fc56991541f1)"
   ]
  },
  {
   "cell_type": "markdown",
   "id": "b7fbe662",
   "metadata": {},
   "source": [
    "The KG uses the [openMinds](https://github.com/openMetadataInitiative/openMINDS) framework for metadata. In this framework, a **Dataset** instance is linked to one or more **DatasetVersion** instances with unique DOIs. *fairgraph* allows us to directly download the dataset using its DOI."
   ]
  },
  {
   "cell_type": "code",
   "execution_count": 2,
   "id": "d21505a6",
   "metadata": {},
   "outputs": [
    {
     "name": "stderr",
     "output_type": "stream",
     "text": [
      "Cannot yet handle case where self.path is a list: Property(name='describes', types=(<class 'fairgraph.openminds.core.research.behavioral_protocol.BehavioralProtocol'>, <class 'fairgraph.openminds.core.research.protocol.Protocol'>, <class 'fairgraph.openminds.ephys.device.electrode_array_usage.ElectrodeArrayUsage'>, <class 'fairgraph.openminds.ephys.device.electrode_usage.ElectrodeUsage'>, <class 'fairgraph.openminds.ephys.device.pipette_usage.PipetteUsage'>, <class 'fairgraph.openminds.specimen_prep.device.slicing_device_usage.SlicingDeviceUsage'>), path='['^vocab:describedIn', '^vocab:metadataLocation']', required=False, multiple=True)\n",
      "/opt/app-root/src/.local/lib/python3.8/site-packages/fairgraph/properties.py:370: UserWarning: Mixed types in Property(name='is_location_of', types=(<class 'fairgraph.openminds.ephys.entity.recording.Recording'>, <class 'fairgraph.openminds.sands.atlas.parcellation_terminology_version.ParcellationTerminologyVersion'>), path='^vocab:dataLocation', required=False, multiple=True)\n",
      "  warn(f\"Mixed types in {self}\")\n",
      "Cannot yet handle case where self.path is a list: Property(name='is_output_of', types=(<class 'fairgraph.openminds.computation.data_analysis.DataAnalysis'>, <class 'fairgraph.openminds.computation.data_copy.DataCopy'>, <class 'fairgraph.openminds.computation.generic_computation.GenericComputation'>, <class 'fairgraph.openminds.computation.model_validation.ModelValidation'>, <class 'fairgraph.openminds.computation.optimization.Optimization'>, <class 'fairgraph.openminds.computation.simulation.Simulation'>, <class 'fairgraph.openminds.computation.visualization.Visualization'>, <class 'fairgraph.openminds.core.products.model_version.ModelVersion'>, <class 'fairgraph.openminds.core.research.protocol_execution.ProtocolExecution'>, <class 'fairgraph.openminds.ephys.activity.recording_activity.RecordingActivity'>, <class 'fairgraph.openminds.stimulation.activity.stimulation_activity.StimulationActivity'>), path='['^vocab:output', '^vocab:outputData']', required=False, multiple=True)\n",
      "/opt/app-root/src/.local/lib/python3.8/site-packages/fairgraph/properties.py:370: UserWarning: Mixed types in Property(name='specifies', types=(<class 'fairgraph.openminds.sands.atlas.atlas_annotation.AtlasAnnotation'>, <class 'fairgraph.openminds.sands.non_atlas.custom_annotation.CustomAnnotation'>, <class 'fairgraph.openminds.stimulation.stimulus.ephys_stimulus.EphysStimulus'>), path='^vocab:specification', required=False, multiple=True)\n",
      "  warn(f\"Mixed types in {self}\")\n",
      "Property 'value' should be of type (<class 'float'>,), not <class 'int'>\n",
      "Property 'value' should be of type (<class 'float'>,), not <class 'int'>\n",
      "Property 'value' should be of type (<class 'float'>,), not <class 'int'>\n",
      "Property 'value' should be of type (<class 'float'>,), not <class 'int'>\n",
      "Property 'value' should be of type (<class 'float'>,), not <class 'int'>\n",
      "Property 'value' should be of type (<class 'float'>,), not <class 'int'>\n",
      "Property 'value' should be of type (<class 'float'>,), not <class 'int'>\n",
      "Property 'value' should be of type (<class 'float'>,), not <class 'int'>\n",
      "Property 'value' should be of type (<class 'float'>,), not <class 'int'>\n",
      "Property 'value' should be of type (<class 'float'>,), not <class 'int'>\n",
      "Property 'value' should be of type (<class 'float'>,), not <class 'int'>\n",
      "Property 'value' should be of type (<class 'float'>,), not <class 'int'>\n",
      "Property 'value' should be of type (<class 'float'>,), not <class 'int'>\n",
      "Property 'value' should be of type (<class 'float'>,), not <class 'int'>\n",
      "Property 'value' should be of type (<class 'float'>,), not <class 'int'>\n",
      "Property 'value' should be of type (<class 'float'>,), not <class 'int'>\n",
      "Property 'value' should be of type (<class 'float'>,), not <class 'int'>\n",
      "Property 'value' should be of type (<class 'float'>,), not <class 'int'>\n",
      "Property 'value' should be of type (<class 'float'>,), not <class 'int'>\n",
      "Property 'value' should be of type (<class 'float'>,), not <class 'int'>\n",
      "Property 'value' should be of type (<class 'float'>,), not <class 'int'>\n",
      "Property 'value' should be of type (<class 'float'>,), not <class 'int'>\n",
      "Property 'value' should be of type (<class 'float'>,), not <class 'int'>\n",
      "Property 'value' should be of type (<class 'float'>,), not <class 'int'>\n",
      "Property 'value' should be of type (<class 'float'>,), not <class 'int'>\n",
      "Property 'value' should be of type (<class 'float'>,), not <class 'int'>\n",
      "Property 'value' should be of type (<class 'float'>,), not <class 'int'>\n",
      "Property 'value' should be of type (<class 'float'>,), not <class 'int'>\n",
      "Property 'value' should be of type (<class 'float'>,), not <class 'int'>\n",
      "Property 'value' should be of type (<class 'float'>,), not <class 'int'>\n",
      "Property 'value' should be of type (<class 'float'>,), not <class 'int'>\n",
      "Property 'value' should be of type (<class 'float'>,), not <class 'int'>\n",
      "Property 'value' should be of type (<class 'float'>,), not <class 'int'>\n",
      "Property 'value' should be of type (<class 'float'>,), not <class 'int'>\n",
      "Property 'value' should be of type (<class 'float'>,), not <class 'int'>\n",
      "Property 'value' should be of type (<class 'float'>,), not <class 'int'>\n",
      "Property 'value' should be of type (<class 'float'>,), not <class 'int'>\n",
      "Property 'value' should be of type (<class 'float'>,), not <class 'int'>\n",
      "Property 'value' should be of type (<class 'float'>,), not <class 'int'>\n",
      "Property 'value' should be of type (<class 'float'>,), not <class 'int'>\n",
      "Property 'value' should be of type (<class 'float'>,), not <class 'int'>\n",
      "Property 'value' should be of type (<class 'float'>,), not <class 'int'>\n",
      "Property 'value' should be of type (<class 'float'>,), not <class 'int'>\n",
      "Property 'value' should be of type (<class 'float'>,), not <class 'int'>\n",
      "Property 'value' should be of type (<class 'float'>,), not <class 'int'>\n",
      "Property 'value' should be of type (<class 'float'>,), not <class 'int'>\n",
      "Property 'value' should be of type (<class 'float'>,), not <class 'int'>\n",
      "Property 'value' should be of type (<class 'float'>,), not <class 'int'>\n",
      "Property 'value' should be of type (<class 'float'>,), not <class 'int'>\n",
      "Property 'value' should be of type (<class 'float'>,), not <class 'int'>\n",
      "Property 'value' should be of type (<class 'float'>,), not <class 'int'>\n",
      "Property 'value' should be of type (<class 'float'>,), not <class 'int'>\n",
      "Property 'value' should be of type (<class 'float'>,), not <class 'int'>\n",
      "Property 'value' should be of type (<class 'float'>,), not <class 'int'>\n",
      "Property 'value' should be of type (<class 'float'>,), not <class 'int'>\n",
      "Property 'value' should be of type (<class 'float'>,), not <class 'int'>\n",
      "Property 'value' should be of type (<class 'float'>,), not <class 'int'>\n",
      "Property 'value' should be of type (<class 'float'>,), not <class 'int'>\n",
      "Property 'value' should be of type (<class 'float'>,), not <class 'int'>\n",
      "Property 'value' should be of type (<class 'float'>,), not <class 'int'>\n",
      "Property 'value' should be of type (<class 'float'>,), not <class 'int'>\n",
      "Property 'value' should be of type (<class 'float'>,), not <class 'int'>\n",
      "Property 'value' should be of type (<class 'float'>,), not <class 'int'>\n",
      "Property 'value' should be of type (<class 'float'>,), not <class 'int'>\n",
      "Property 'value' should be of type (<class 'float'>,), not <class 'int'>\n",
      "Property 'value' should be of type (<class 'float'>,), not <class 'int'>\n",
      "Property 'value' should be of type (<class 'float'>,), not <class 'int'>\n",
      "Property 'value' should be of type (<class 'float'>,), not <class 'int'>\n",
      "Property 'value' should be of type (<class 'float'>,), not <class 'int'>\n",
      "Property 'value' should be of type (<class 'float'>,), not <class 'int'>\n",
      "Property 'value' should be of type (<class 'float'>,), not <class 'int'>\n",
      "Property 'value' should be of type (<class 'float'>,), not <class 'int'>\n",
      "Property 'value' should be of type (<class 'float'>,), not <class 'int'>\n",
      "Property 'value' should be of type (<class 'float'>,), not <class 'int'>\n",
      "Property 'value' should be of type (<class 'float'>,), not <class 'int'>\n"
     ]
    },
    {
     "ename": "FileNotFoundError",
     "evalue": "[Errno 2] No such file or directory: 'downloads/ext-d000001_ADNeuronModel_pub'",
     "output_type": "error",
     "traceback": [
      "\u001b[0;31m---------------------------------------------------------------------------\u001b[0m",
      "\u001b[0;31mFileNotFoundError\u001b[0m                         Traceback (most recent call last)",
      "Cell \u001b[0;32mIn[2], line 20\u001b[0m\n\u001b[1;32m     18\u001b[0m \u001b[38;5;28;01melse\u001b[39;00m:\n\u001b[1;32m     19\u001b[0m     dataset_path \u001b[38;5;241m=\u001b[39m \u001b[38;5;124m\"\u001b[39m\u001b[38;5;124mdownloads/ext-d000001_ADNeuronModel_pub\u001b[39m\u001b[38;5;124m\"\u001b[39m\n\u001b[0;32m---> 20\u001b[0m \u001b[38;5;28;01mwith\u001b[39;00m \u001b[43mzipfile\u001b[49m\u001b[38;5;241;43m.\u001b[39;49m\u001b[43mZipFile\u001b[49m\u001b[43m(\u001b[49m\u001b[43mdataset_path\u001b[49m\u001b[43m,\u001b[49m\u001b[43m \u001b[49m\u001b[38;5;124;43m\"\u001b[39;49m\u001b[38;5;124;43mr\u001b[39;49m\u001b[38;5;124;43m\"\u001b[39;49m\u001b[43m)\u001b[49m \u001b[38;5;28;01mas\u001b[39;00m z:\n\u001b[1;32m     21\u001b[0m     z\u001b[38;5;241m.\u001b[39mextractall(\u001b[38;5;124m\"\u001b[39m\u001b[38;5;124mdownloads\u001b[39m\u001b[38;5;124m\"\u001b[39m)\n",
      "File \u001b[0;32m/usr/lib/python3.8/zipfile.py:1251\u001b[0m, in \u001b[0;36mZipFile.__init__\u001b[0;34m(self, file, mode, compression, allowZip64, compresslevel, strict_timestamps)\u001b[0m\n\u001b[1;32m   1249\u001b[0m \u001b[38;5;28;01mwhile\u001b[39;00m \u001b[38;5;28;01mTrue\u001b[39;00m:\n\u001b[1;32m   1250\u001b[0m     \u001b[38;5;28;01mtry\u001b[39;00m:\n\u001b[0;32m-> 1251\u001b[0m         \u001b[38;5;28mself\u001b[39m\u001b[38;5;241m.\u001b[39mfp \u001b[38;5;241m=\u001b[39m \u001b[43mio\u001b[49m\u001b[38;5;241;43m.\u001b[39;49m\u001b[43mopen\u001b[49m\u001b[43m(\u001b[49m\u001b[43mfile\u001b[49m\u001b[43m,\u001b[49m\u001b[43m \u001b[49m\u001b[43mfilemode\u001b[49m\u001b[43m)\u001b[49m\n\u001b[1;32m   1252\u001b[0m     \u001b[38;5;28;01mexcept\u001b[39;00m \u001b[38;5;167;01mOSError\u001b[39;00m:\n\u001b[1;32m   1253\u001b[0m         \u001b[38;5;28;01mif\u001b[39;00m filemode \u001b[38;5;129;01min\u001b[39;00m modeDict:\n",
      "\u001b[0;31mFileNotFoundError\u001b[0m: [Errno 2] No such file or directory: 'downloads/ext-d000001_ADNeuronModel_pub'"
     ]
    }
   ],
   "source": [
    "import fairgraph.openminds.core as omcore\n",
    "import os \n",
    "import zipfile\n",
    "\n",
    "dataset_version_doi = \"10.25493/YJFW-HPY\"\n",
    "\n",
    "dataset_versions = omcore.DatasetVersion.list(\n",
    "    kg_client, \n",
    "    digital_identifier__identifier=dataset_version_doi,\n",
    "    follow_links={\"repository\": {\"files\": {}}},\n",
    "    scope=\"any\"\n",
    ")\n",
    "\n",
    "dataset_version = dataset_versions[0]\n",
    "\n",
    "if not os.path.exists(\"downloads\"):  # only download the dataset if it hasn't been downloaded previously\n",
    "    dataset_path = dataset_version.download(\"downloads\", kg_client, accept_terms_of_use=True)[0]\n",
    "else:\n",
    "    dataset_path = \"downloads/ext-d000001_ADNeuronModel_pub\"\n",
    "with zipfile.ZipFile(dataset_path, \"r\") as z:\n",
    "    z.extractall(\"downloads\")"
   ]
  },
  {
   "cell_type": "markdown",
   "id": "0a26f400",
   "metadata": {},
   "source": [
    "#### More sophisticated queries with [KGQueryBuilder](https://query.kg.ebrains.eu)"
   ]
  },
  {
   "cell_type": "markdown",
   "id": "8a7a3804",
   "metadata": {},
   "source": [
    "To query the KG programatically, instead of using the KGSearch website, we can use the KGQuery object from fairgraph. However, the query must be serializable in JSON-LD to be valid. The [KGQueryBuilder](https://query.kg.ebrains.eu) website aims to help users write queries for the EBRAINS Knowledge Graph.\n",
    "Using this tool, try and find the dataset previously found. [A tutorial](https://docs.kg.ebrains.eu/9b511d36d7608eafc94ea43c918f16b6/tutorials.html) is available to learn how to use this tool. Once you think you have the correct query, paste it below to check if it is correct.\n",
    "**Note:** if your query contains the words `true` or `false` without quotes, remember to capitalize the first letter to make it interpretable by Python"
   ]
  },
  {
   "cell_type": "markdown",
   "id": "756b2dfb",
   "metadata": {},
   "source": [
    "**EXERCISE: Build a query with KG Query builder**"
   ]
  },
  {
   "cell_type": "code",
   "execution_count": null,
   "id": "d285fb04",
   "metadata": {},
   "outputs": [],
   "source": [
    "from pprint import pprint\n",
    "query = {\n",
    "    # PASTE YOUR QUERY HERE\n",
    "}\n",
    "results = kg_client.query(query)\n",
    "pprint(results.data, width=200)"
   ]
  },
  {
   "cell_type": "markdown",
   "id": "0d35d0f1",
   "metadata": {},
   "source": [
    "This is what your results should look like:"
   ]
  },
  {
   "cell_type": "code",
   "execution_count": null,
   "id": "fc37219d",
   "metadata": {},
   "outputs": [],
   "source": [
    "query_solution = {\n",
    "  \"@context\": {\n",
    "    \"@vocab\": \"https://core.kg.ebrains.eu/vocab/query/\",\n",
    "    \"query\": \"https://schema.hbp.eu/myQuery/\",\n",
    "    \"propertyName\": {\n",
    "      \"@id\": \"propertyName\",\n",
    "      \"@type\": \"@id\"\n",
    "    },\n",
    "    \"path\": {\n",
    "      \"@id\": \"path\",\n",
    "      \"@type\": \"@id\"\n",
    "    }\n",
    "  },\n",
    "  \"meta\": {\n",
    "    \"type\": \"https://openminds.ebrains.eu/core/DatasetVersion\",\n",
    "    \"responseVocab\": \"https://schema.hbp.eu/myQuery/\"\n",
    "  },\n",
    "  \"structure\": [\n",
    "    {\n",
    "      \"propertyName\": \"query:digitalIdentifier\",\n",
    "      \"path\": \"https://openminds.ebrains.eu/vocab/digitalIdentifier\",\n",
    "      \"structure\": {\n",
    "        \"propertyName\": \"query:identifier\",\n",
    "        \"path\": \"http://schema.org/identifier\"\n",
    "      }\n",
    "    },\n",
    "    {\n",
    "      \"propertyName\": \"query:identifier\",\n",
    "      \"path\": \"http://schema.org/identifier\"\n",
    "    },\n",
    "    {\n",
    "      \"propertyName\": \"query:versionIdentifier\",\n",
    "      \"path\": \"https://openminds.ebrains.eu/vocab/versionIdentifier\"\n",
    "    },\n",
    "    {\n",
    "      \"propertyName\": \"query:shortName\",\n",
    "      \"path\": \"https://openminds.ebrains.eu/vocab/shortName\",\n",
    "      \"sort\": True\n",
    "    },\n",
    "    {\n",
    "      \"propertyName\": \"query:fullName\",\n",
    "      \"path\": \"https://openminds.ebrains.eu/vocab/fullName\"\n",
    "    },\n",
    "    {\n",
    "      \"propertyName\": \"query:studiedSpecimen\",\n",
    "      \"path\": \"https://openminds.ebrains.eu/vocab/studiedSpecimen\",\n",
    "      \"required\": True,\n",
    "      \"structure\": [\n",
    "        {\n",
    "          \"propertyName\": \"query:species\",\n",
    "          \"path\": \"https://openminds.ebrains.eu/vocab/species\",\n",
    "          \"required\": True,\n",
    "          \"structure\": {\n",
    "            \"propertyName\": \"query:synonym\",\n",
    "            \"path\": \"https://openminds.ebrains.eu/vocab/synonym\",\n",
    "            \"required\": True,\n",
    "            \"filter\": {\n",
    "              \"op\": \"CONTAINS\",\n",
    "              \"value\": \"mouse\"\n",
    "            }\n",
    "          }\n",
    "        },\n",
    "        {\n",
    "          \"propertyName\": \"query:studiedState\",\n",
    "          \"path\": \"https://openminds.ebrains.eu/vocab/studiedState\",\n",
    "          \"required\": True,\n",
    "          \"structure\": {\n",
    "            \"propertyName\": \"query:pathology\",\n",
    "            \"path\": \"https://openminds.ebrains.eu/vocab/pathology\",\n",
    "            \"required\": True,\n",
    "            \"structure\": {\n",
    "              \"propertyName\": \"query:name\",\n",
    "              \"path\": \"https://openminds.ebrains.eu/vocab/name\",\n",
    "              \"required\": True,\n",
    "              \"filter\": {\n",
    "                \"op\": \"CONTAINS\",\n",
    "                \"value\": \"Alzheimer\"\n",
    "              }\n",
    "            }\n",
    "          }\n",
    "        }\n",
    "      ]\n",
    "    },\n",
    "    {\n",
    "      \"propertyName\": \"query:technique\",\n",
    "      \"path\": \"https://openminds.ebrains.eu/vocab/technique\",\n",
    "      \"required\": True,\n",
    "      \"structure\": {\n",
    "        \"propertyName\": \"query:name\",\n",
    "        \"path\": \"https://openminds.ebrains.eu/vocab/name\",\n",
    "        \"required\": True,\n",
    "        \"filter\": {\n",
    "          \"op\": \"CONTAINS\",\n",
    "          \"value\": \"whole cell patch clamp\"\n",
    "        }\n",
    "      }\n",
    "    }\n",
    "  ]\n",
    "}\n",
    "\n",
    "results = kg_client.query(query_solution)\n",
    "pprint(results.data, width=200)"
   ]
  },
  {
   "cell_type": "markdown",
   "id": "87e49509",
   "metadata": {},
   "source": [
    "## Structure of Folder "
   ]
  },
  {
   "cell_type": "markdown",
   "id": "0a7e7f3c",
   "metadata": {},
   "source": [
    "os.listdir()The data are organized into four folders, \"APPPS1_mouse_model_3-4_months\", \"control_3-4_months\", \"APPPS1_mouse_model_9-10_months\", \"control_9-10_months\", each of which contains a number of files with the extension \".abf\".\n",
    "\n",
    "It should be noted that the dataset does not contain the data for mice at age 1 month that are shown in the associated paper (Vitale et al., 2021).\n",
    "\n",
    "We know from the dataset metadata that these are electrophysiology data, and more specifically that they were obtained with the whole cell patch clamp technique in current clamp mode. We will therefore use the [Neo library](https://neo.readthedocs.io/) to read the data files, since it is able to read data from a large number of electrophysiology file formats."
   ]
  },
  {
   "cell_type": "code",
   "execution_count": 3,
   "id": "477dd025-0293-4198-a9b5-5eed2c11fa10",
   "metadata": {},
   "outputs": [
    {
     "data": {
      "text/plain": [
       "['Fig1.png',\n",
       " 'Fig2.png',\n",
       " 'Figmatplotlib.png',\n",
       " 'Minischool_NeuralNet2024_data_example.xlsx',\n",
       " 'Neo_architecture.png',\n",
       " 'SalgueiroPereiraMarie2020-solutions.ipynb',\n",
       " 'SalgueiroPereiraMarie2020.ipynb',\n",
       " '.ipynb_checkpoints',\n",
       " 'downloads']"
      ]
     },
     "execution_count": 3,
     "metadata": {},
     "output_type": "execute_result"
    }
   ],
   "source": [
    "os.listdir()"
   ]
  },
  {
   "cell_type": "code",
   "execution_count": 4,
   "id": "fb63e851",
   "metadata": {},
   "outputs": [
    {
     "data": {
      "text/plain": [
       "'/opt/app-root/src/NeuralNet-2024-Minischool/case-studies/01-Case study for data reuse with EBRAINS knowledge Graph/downloads'"
      ]
     },
     "execution_count": 4,
     "metadata": {},
     "output_type": "execute_result"
    }
   ],
   "source": [
    "data_folder = os.path.abspath(os.listdir()[8]) # gets the path of the download folder in the working directory\n",
    "data_folder"
   ]
  },
  {
   "cell_type": "code",
   "execution_count": 5,
   "id": "c6fc936c",
   "metadata": {},
   "outputs": [
    {
     "name": "stdout",
     "output_type": "stream",
     "text": [
      "The dataset contains 4 folders corresponding to the experimental groups\n",
      "The folfer /opt/app-root/src/NeuralNet-2024-Minischool/case-studies/01-Case study for data reuse with EBRAINS knowledge Graph/downloads/APPPS1_mouse_model_3-4_months contains 17 files with the extension .abf (['191129000_S23.abf', '191129002_S23.abf', '191129003_S23.abf', '191129006_rita_S23.abf', '191129007_rita_S23.abf', '191129008_rita_S23.abf', '191129009_rita_S23.abf', '191202000_rita_S26.abf', '191202001_rita_S26.abf', '191202002_rita_S23.abf', '191202003_rita_S23.abf', '191202004_rita_S22.abf', '191202005_rita_S22.abf', '191202006_rita_S22.abf', '191202007_rita_S22.abf', '191202008_rita_S22.abf', '191202009_rita_S22.abf'])\n",
      "The folfer /opt/app-root/src/NeuralNet-2024-Minischool/case-studies/01-Case study for data reuse with EBRAINS knowledge Graph/downloads/APPPS1_mouse_model_9-10_months contains 22 files with the extension .abf (['191122000_S77.abf', '191122000_rita_S77.abf', '191122001_rita_S77.abf', '191122002_S77.abf', '191122002_rita_S77.abf', '191122003_S77.abf', '191122003_rita_S77.abf', '200120000_S87.abf', '200120004_S87.abf', '200120005_S87.abf', '200120006_S87.abf', '200120007_S87.abf', '200120008_S87.abf', '200120009_S87.abf', '200120010_S87.abf', '200303004_rita_S96.abf', '200303005_S96.abf', '200303005_rita_S96.abf', '200303006_rita_S96.abf', '200303007_rita_S96.abf', '200303009_rita_S96.abf', '200303010_rita_S96.abf'])\n",
      "The folfer /opt/app-root/src/NeuralNet-2024-Minischool/case-studies/01-Case study for data reuse with EBRAINS knowledge Graph/downloads/control_3-4_months contains 13 files with the extension .abf (['191129000_rita_S24.abf', '191129001_rita_S24.abf', '191129002_rita_S24.abf', '191129003_rita_S24.abf', '191129004_S24.abf', '191129005_rita_S24.abf', '191203000_rita_S31.abf', '191203001_rita_S31.abf', '191203002_rita_S31.abf', '191203003_rita_S31.abf', '191203004_rita_S31.abf', '191203005_rita_S27.abf', '191203006_rita_S27.abf'])\n",
      "The folfer /opt/app-root/src/NeuralNet-2024-Minischool/case-studies/01-Case study for data reuse with EBRAINS knowledge Graph/downloads/control_9-10_months contains 21 files with the extension .abf (['191113002_S75.abf', '191113004_S75.abf', '191113005_S75.abf', '191121000_rita_S76.abf', '191121001_S76.abf', '191121001_rita_S76.abf', '191121002_S76.abf', '191121003_rita_S76.abf', '191121004_rita_S76.abf', '200123000_S86.abf', '200123001_S86.abf', '200123002_S86.abf', '200123003_S86.abf', '200303000_S95.abf', '200303001_S95.abf', '200303001_rita_S95.abf', '200303002_S95.abf', '200303002_rita_S95.abf', '200303003_S95.abf', '200303003_rita_S95.abf', '200303004_S95.abf'])\n"
     ]
    }
   ],
   "source": [
    "path_folders_list = []\n",
    "sub_folders_list = []\n",
    "files_list = []\n",
    "for path_folders, sub_folders, files in os.walk(data_folder):\n",
    "    path_folders_list.append(path_folders)\n",
    "    sub_folders_list.append(sub_folders)\n",
    "    files_list.append(files)\n",
    "\n",
    "print(f\"The dataset contains {len(path_folders_list[1:])} folders corresponding to the experimental groups\")\n",
    "for i in range (1, (len(path_folders_list))):\n",
    "    print(f\"The folfer {path_folders_list[i]} contains {len(files_list[i])} files with the extension .abf ({files_list[i]})\")\n"
   ]
  },
  {
   "cell_type": "markdown",
   "id": "4904b7ca-ed8a-4eca-9885-7c5f659debee",
   "metadata": {},
   "source": [
    "## Exploring Neo package: FAIR and flexible tool to analyze/visualize your data \n",
    "### FAIR principle related to Neo:\n",
    "**I1: (meta)data use a formal, accessible, shared, and broadly applicable language for knowledge representation.**\\\n",
    "**I3: (meta)data include qualified references to other (meta)data**\\\n",
    "**R1.3: (meta)data meet domain-relevant community standards.**\n"
   ]
  },
  {
   "cell_type": "markdown",
   "id": "ce5a4e8a",
   "metadata": {},
   "source": [
    "The objective here is to provide an example of the use of Neo package. In this part, you will find ressource to analyze and visualize your electrophysiologcal data. Don't hesitate to check the links to have more analyzing option (.i.e extracelullar recordings)."
   ]
  },
  {
   "cell_type": "code",
   "execution_count": 6,
   "id": "febe07c3-48cf-476f-afe2-d8048145d633",
   "metadata": {},
   "outputs": [],
   "source": [
    "from glob import glob\n",
    "import numpy as np\n",
    "from neo import get_io"
   ]
  },
  {
   "cell_type": "markdown",
   "id": "2d7ce055-ae45-4fe1-b7c2-c9b46548236d",
   "metadata": {},
   "source": [
    "Neo loads data into a hierarchical structure: Blocks contain Segments, which contain the actual data.\n",
    "\n"
   ]
  },
  {
   "cell_type": "markdown",
   "id": "bbded7f6",
   "metadata": {},
   "source": [
    "![title](Neo_architecture.png)"
   ]
  },
  {
   "cell_type": "markdown",
   "id": "58cbf1ba",
   "metadata": {},
   "source": [
    "Let us look at the structure of the first three files:"
   ]
  },
  {
   "cell_type": "code",
   "execution_count": 7,
   "id": "160df841-fad2-42e6-8d69-8d847cc107ad",
   "metadata": {},
   "outputs": [
    {
     "name": "stdout",
     "output_type": "stream",
     "text": [
      "AxonIO: downloads/APPPS1_mouse_model_3-4_months/191129000_S23.abf\n",
      "nb_block: 1\n",
      "nb_segment:  [13]\n",
      "signal_streams: [Signals (chans: 1)]\n",
      "signal_channels: [IN0]\n",
      "spike_channels: []\n",
      "event_channels: [Tag]\n",
      "\n",
      "AxonIO: downloads/APPPS1_mouse_model_3-4_months/191129002_S23.abf\n",
      "nb_block: 1\n",
      "nb_segment:  [13]\n",
      "signal_streams: [Signals (chans: 1)]\n",
      "signal_channels: [IN0]\n",
      "spike_channels: []\n",
      "event_channels: [Tag]\n",
      "\n",
      "AxonIO: downloads/APPPS1_mouse_model_3-4_months/191129003_S23.abf\n",
      "nb_block: 1\n",
      "nb_segment:  [13]\n",
      "signal_streams: [Signals (chans: 1)]\n",
      "signal_channels: [IN0]\n",
      "spike_channels: []\n",
      "event_channels: [Tag]\n",
      "\n"
     ]
    }
   ],
   "source": [
    "for file_path in glob(\"downloads/*/*.abf\")[:3]:\n",
    "    io = get_io(file_path)\n",
    "    print(io)"
   ]
  },
  {
   "cell_type": "markdown",
   "id": "3a212032",
   "metadata": {},
   "source": [
    "**EXERCISE: Knowing the structure of Neo object, retrieve the signal ?**\n",
    "\n",
    "Hint:\n",
    "\n",
    "block = get_io(\"downloads/APPPS1_mouse_model_3-4_months/191129000_S23.abf\").read(lazy=True) #using read(lazy=True) implies to use .load() to retrieve signals\\\n",
    "...\\\n",
    "You can have a look there: https://neo.readthedocs.io/en/latest/read_and_analyze.html#getting-started\n",
    "\n",
    "--\\\n",
    "Output:\n",
    "\n",
    "AnalogSignal with 1 channels of length 50000; units mV; datatype float32\\\n",
    "name: 'Signals'\\\n",
    "annotations: {'stream_id': '0'}\\\n",
    "sampling rate: 10000.0 Hz\\\n",
    "time: 0.020999999999999998 s to 5.021 s"
   ]
  },
  {
   "cell_type": "code",
   "execution_count": 8,
   "id": "78126230",
   "metadata": {},
   "outputs": [
    {
     "data": {
      "text/plain": [
       "AnalogSignal with 1 channels of length 50000; units mV; datatype float32\n",
       "name: 'Signals'\n",
       "annotations: {'stream_id': '0'}\n",
       "sampling rate: 10000.0 Hz\n",
       "time: 0.020999999999999998 s to 5.021 s"
      ]
     },
     "execution_count": 8,
     "metadata": {},
     "output_type": "execute_result"
    }
   ],
   "source": [
    "# Solution \n",
    "block = get_io(\"downloads/APPPS1_mouse_model_3-4_months/191129000_S23.abf\").read(lazy=True)\n",
    "example_signal = block[0].segments[0].analogsignals[0].load()\n",
    "example_signal"
   ]
  },
  {
   "cell_type": "markdown",
   "id": "d99c4df7",
   "metadata": {},
   "source": [
    "**EXERCISE: Explore the proprieties of the object in order to obtain the raw data, the time (with and without units), the units and the sampling rate**"
   ]
  },
  {
   "cell_type": "markdown",
   "id": "a7786153",
   "metadata": {},
   "source": [
    "HINT: Here the objective is to explore the propeties of a neo object.\\\n",
    "You can have a look here for more help: https://neo.readthedocs.io/en/latest/read_and_analyze.html#numpy"
   ]
  },
  {
   "cell_type": "code",
   "execution_count": null,
   "id": "2666dfba",
   "metadata": {},
   "outputs": [],
   "source": [
    "print(f\"Raw signal:  {...}\")\n",
    "print(f\"time with unit:  {...}\")\n",
    "print(f\"time without unit:  {...}\")\n",
    "print(f\"sampling rate:  {...}\")\n",
    "print(f\"sampling rate without unit:  {...}\")\n",
    "print(f\"time unit:  {...}\")\n",
    "print(f\"signal unit:  {...}\")"
   ]
  },
  {
   "cell_type": "code",
   "execution_count": 9,
   "id": "bed843b4",
   "metadata": {},
   "outputs": [
    {
     "name": "stdout",
     "output_type": "stream",
     "text": [
      "Raw signal:  [-66.19263  -66.3147   -66.223145 ... -66.07056  -66.13159  -66.00952 ]\n",
      "time with unit:  [0.021  0.0211 0.0212 ... 5.0207 5.0208 5.0209] s\n",
      "time without unit:  [0.021  0.0211 0.0212 ... 5.0207 5.0208 5.0209]\n",
      "sampling rate:  10000.0 Hz\n",
      "sampling rate without unit:  10000.0\n",
      "time unit:  s\n",
      "signal unit:  mV\n"
     ]
    }
   ],
   "source": [
    "# Solution\n",
    "print(f\"Raw signal:  {example_signal.magnitude.flatten()}\")\n",
    "print(f\"time with unit:  {example_signal.times}\")\n",
    "print(f\"time without unit:  {example_signal.times.magnitude}\")\n",
    "print(f\"sampling rate:  {example_signal.sampling_rate}\")\n",
    "print(f\"sampling rate without unit:  {example_signal.sampling_rate.magnitude}\")\n",
    "print(f\"time unit:  {example_signal.times.dimensionality}\")\n",
    "print(f\"signal unit:  {example_signal.units.dimensionality}\")"
   ]
  },
  {
   "cell_type": "markdown",
   "id": "70ca5252-cbf7-4778-a630-276318f0124e",
   "metadata": {},
   "source": [
    "These all have a consistent structure: they're in Axon format, contain a single block containing 13 segments, and each segment contains a single recorded signal containing a single channel.\\\n",
    "We know from the associated paper that current pulses of increasing intensity were injected into the neurons, in steps of 50 pA from -200 to 400 pA.\\\n",
    "This will be useful for the next part."
   ]
  },
  {
   "cell_type": "code",
   "execution_count": 10,
   "id": "e587a5ef-c488-4143-9f29-3bd9c6d44a01",
   "metadata": {},
   "outputs": [
    {
     "name": "stdout",
     "output_type": "stream",
     "text": [
      "[-200 -150 -100  -50    0   50  100  150  200  250  300  350  400]\n",
      "Number of current pulses: 13\n"
     ]
    }
   ],
   "source": [
    "current_pulse_amplitudes = np.arange(-200, 401, 50)  # we set the upper limit above 400, so that the final value is 400\n",
    "print(current_pulse_amplitudes)\n",
    "print(f\"Number of current pulses: {len(current_pulse_amplitudes)}\")"
   ]
  },
  {
   "cell_type": "markdown",
   "id": "f28b2cce-75db-46cf-927b-07f70464190a",
   "metadata": {},
   "source": [
    "Now let's plot the data from one of the files:"
   ]
  },
  {
   "cell_type": "markdown",
   "id": "d5b6d014",
   "metadata": {},
   "source": [
    "**EXERCISE: Plot the membrane potential(signal) over the time for all segments**"
   ]
  },
  {
   "cell_type": "markdown",
   "id": "f1c9b534",
   "metadata": {},
   "source": [
    "HINT: You can have a look here: https://neo.readthedocs.io/en/latest/read_and_analyze.html#getting-started"
   ]
  },
  {
   "cell_type": "code",
   "execution_count": null,
   "id": "90a87c93",
   "metadata": {},
   "outputs": [],
   "source": [
    "%matplotlib inline\n",
    "import matplotlib.pyplot as plt\n",
    "\n",
    "def plot_data(file_path):\n",
    "    data = get_io(file_path).read(lazy=True)\n",
    "# write this function to obtain the figure below\n",
    "\n",
    "plot_data(\"downloads/APPPS1_mouse_model_3-4_months/191129000_S23.abf\")"
   ]
  },
  {
   "cell_type": "code",
   "execution_count": 11,
   "id": "3c73c8fd",
   "metadata": {},
   "outputs": [
    {
     "data": {
      "image/png": "[encoded data removed]",
      "text/plain": [
       "<Figure size 640x480 with 1 Axes>"
      ]
     },
     "metadata": {},
     "output_type": "display_data"
    }
   ],
   "source": [
    "# Solution\n",
    "%matplotlib inline\n",
    "import matplotlib.pyplot as plt\n",
    "\n",
    "def plot_data(file_path):\n",
    "    data = get_io(file_path).read(lazy=True) # Note data = block \n",
    "    for segment in data[0].segments:\n",
    "        signal = segment.analogsignals[0].load()\n",
    "        plt.plot(signal.times, signal)\n",
    "    plt.xlabel(f\"Time ({signal.times.units.dimensionality})\")\n",
    "    plt.ylabel(f\"Membrane potential ({signal.units.dimensionality})\") # Using the propreties like .units.dimensionality contributes to the reusability of your code.\n",
    "\n",
    "plot_data(\"downloads/APPPS1_mouse_model_3-4_months/191129000_S23.abf\")"
   ]
  },
  {
   "cell_type": "markdown",
   "id": "3351e0b8",
   "metadata": {},
   "source": [
    "![title](Fig1.png)"
   ]
  },
  {
   "cell_type": "markdown",
   "id": "45835752-309b-432b-9cc9-e5b46591ab81",
   "metadata": {},
   "source": [
    "**EXERCISE: To get a closer look at the signals, (1) shift the time axis to be relative to the start time of each signal, and (2) plot only the 500 ms around the current injection. Adjust the code used above to do so.**\n",
    "\n",
    "HINT: signal.times - signal.t_start"
   ]
  },
  {
   "cell_type": "code",
   "execution_count": null,
   "id": "53cf8359",
   "metadata": {},
   "outputs": [],
   "source": [
    "def plot_data_zoom(file_path):\n",
    "    data = get_io(file_path).read(lazy=True)\n",
    "# write this function to obtain the figure below\n",
    "\n",
    "plot_data_zoom(\"downloads/APPPS1_mouse_model_3-4_months/191129000_S23.abf\")"
   ]
  },
  {
   "cell_type": "code",
   "execution_count": 12,
   "id": "18274d29",
   "metadata": {},
   "outputs": [
    {
     "data": {
      "image/png": "[encoded data removed]",
      "text/plain": [
       "<Figure size 640x480 with 1 Axes>"
      ]
     },
     "metadata": {},
     "output_type": "display_data"
    }
   ],
   "source": [
    "# Solution\n",
    "def plot_data_zoom(file_path):\n",
    "    data = get_io(file_path).read(lazy=True)\n",
    "    for segment in data[0].segments:\n",
    "        signal = segment.analogsignals[0].load()\n",
    "        plt.plot(signal.times - signal.t_start, signal)\n",
    "    plt.xlim(0.05, 0.55)\n",
    "    plt.xlabel(f\"Time ({signal.times.units.dimensionality})\")\n",
    "    plt.ylabel(f\"Membrane potential ({signal.units.dimensionality})\")\n",
    "\n",
    "plot_data_zoom(\"downloads/APPPS1_mouse_model_3-4_months/191129000_S23.abf\")"
   ]
  },
  {
   "cell_type": "markdown",
   "id": "6d56b2e9",
   "metadata": {},
   "source": [
    "![title](Fig2.png)"
   ]
  },
  {
   "cell_type": "markdown",
   "id": "574817c2",
   "metadata": {},
   "source": [
    "**EXERCISE: Restrict the signal to 1 second? to 0.6 second?**\n",
    "\n",
    "Hint: np.where()"
   ]
  },
  {
   "cell_type": "code",
   "execution_count": null,
   "id": "58976e82",
   "metadata": {},
   "outputs": [],
   "source": [
    "def plot_data_vs(file_path, value_second):\n",
    "    ...\n",
    "    ...\n",
    "    plt.plot(signal.times[indices_vs]-signal.t_start, signal.magnitude[indices_vs])\n",
    "    \n",
    "\n",
    "plot_data_vs(\"downloads/APPPS1_mouse_model_3-4_months/191129000_S23.abf\", 0.6)"
   ]
  },
  {
   "cell_type": "code",
   "execution_count": 13,
   "id": "971d3cab",
   "metadata": {},
   "outputs": [
    {
     "data": {
      "image/png": "[encoded data removed]",
      "text/plain": [
       "<Figure size 640x480 with 1 Axes>"
      ]
     },
     "metadata": {},
     "output_type": "display_data"
    }
   ],
   "source": [
    "def plot_data_vs(file_path, value_second):\n",
    "    data = get_io(file_path).read(lazy=True)\n",
    "    for segment in data[0].segments:\n",
    "        signal = segment.analogsignals[0].load()\n",
    "        indices_vs = np.where((signal.times - signal.t_start) <= value_second)[0]\n",
    "        plt.plot(signal.times[indices_vs]-signal.t_start, signal.magnitude[indices_vs])\n",
    "    \n",
    "    plt.xlabel(f\"Time ({signal.times.units.dimensionality})\")\n",
    "    plt.ylabel(f\"Membrane potential ({signal.units.dimensionality})\")\n",
    "\n",
    "plot_data_vs(\"downloads/APPPS1_mouse_model_3-4_months/191129000_S23.abf\", 0.6)"
   ]
  },
  {
   "cell_type": "markdown",
   "id": "13dfba15",
   "metadata": {},
   "source": [
    "### Data reuse with matplotlib\n",
    "\n",
    "We recommend using Matplotlib or another widely adopted plotting library in the scientific community to create your figures. By doing so, you'll ensure that your code remains reusable and that your figures will be accessible well into the future, with less concern about discontinued support or compatibility issues.\n",
    "\n",
    "In the following example, we demonstrate how Matplotlib can be used to achieve high-quality, customizable plots. We encourage you to adopt Matplotlib for your visualizations, keeping in mind the ease of sharing and replicating your code across different environments. You can also combine matplotlib to [Seaborn](https://seaborn.pydata.org/), a data vizualization library based on matplotlib.  "
   ]
  },
  {
   "cell_type": "markdown",
   "id": "1e3f3eb4",
   "metadata": {},
   "source": [
    "**EXERCISE: Complete the code below in order to plot the membrane potential over the current amplitudes?**"
   ]
  },
  {
   "cell_type": "code",
   "execution_count": null,
   "id": "876d2a0d",
   "metadata": {},
   "outputs": [],
   "source": [
    "mean_membrane_potential = [] \n",
    "value_second = 0.6\n",
    "\n",
    "data = get_io('downloads/APPPS1_mouse_model_3-4_months/191129000_S23.abf').read(lazy=True)\n",
    "for segment in data[0].segments:\n",
    "    signal = segment.analogsignals[0].load()\n",
    "    indices_vs = np.where((signal.times - signal.t_start) <= value_second)[0]\n",
    "\n",
    "    mean_membrane_potential.append(...signal.magnitude[indices_vs])\n",
    "\n",
    "\n",
    "# Layout \n",
    "plt.figure(figsize=(15, 10), dpi=80) \n",
    "\n",
    "colors = plt.cm.tab20(np.linspace(0, 1, 13))\n",
    "\n",
    "plt.scatter(..., color= colors, zorder= ...)\n",
    "plt.plot(...,'-', color = 'k', alpha = 0.5, zorder=1)\n",
    "plt.xlabel(f\"Currents (pA)\", size = 15)\n",
    "plt.ylabel(f\"Mean Membrane potential ({signal.units.dimensionality})\", size = 15)\n",
    "\n",
    "ax = plt.gca()\n",
    "\n",
    "ax.set_xlim(-250,450)\n",
    "ax.set_xticks([-200,-100,0,100,200,300,400,450])\n",
    "ax.set_xticklabels(['-200','-100','0','100','200','300','400', ' '], size = 12)\n",
    "ax.tick_params(axis='x', which='major', size=5) \n",
    "ax.set_xticks([-250,-150,50,-50,150,250,350], minor=True) \n",
    "ax.tick_params(axis='x', which='minor', size=3) \n",
    "\n",
    "ax.set_ylim(-85,-40)\n",
    "ax.set_yticks([-80,-70,-60,-50,-40])\n",
    "ax.set_yticklabels(['-80','-70','-60','-50','-40'], size = 12)\n",
    "ax.tick_params(axis='y', which='major', size=5) \n",
    "ax.set_yticks([-85,-75,-65,-55,-45], minor=True) \n",
    "ax.tick_params(axis='y', which='minor', size=3) \n",
    "\n",
    "ax.spines['top'].set_visible(False)\n",
    "ax.spines['right'].set_visible(False)\n",
    "\n",
    "\n",
    "plt.show()"
   ]
  },
  {
   "cell_type": "code",
   "execution_count": 14,
   "id": "9e62a03f",
   "metadata": {},
   "outputs": [
    {
     "data": {
      "image/png": "[encoded data removed]",
      "text/plain": [
       "<Figure size 640x480 with 1 Axes>"
      ]
     },
     "metadata": {},
     "output_type": "display_data"
    }
   ],
   "source": [
    "import matplotlib.pyplot as plt\n",
    "\n",
    "# This example focuses on the vizualization not the data analysis \n",
    "\n",
    "mean_membrane_potential = []\n",
    "value_second = 0.6\n",
    "\n",
    "data = get_io('downloads/APPPS1_mouse_model_3-4_months/191129000_S23.abf').read(lazy=True)\n",
    "for segment in data[0].segments:\n",
    "    signal = segment.analogsignals[0].load()\n",
    "    indices_1s = np.where((signal.times - signal.t_start) <= value_second)[0]\n",
    "    mean_membrane_potential.append(np.mean(signal.magnitude[indices_1s]))\n",
    "\n",
    "# Layout \n",
    "plt.figure(figsize=(8, 6), dpi=80) # Learn more on dpi here: [Relationship between dpi and figure size](https://stackoverflow.com/questions/47633546/relationship-between-dpi-and-figure-size)\n",
    "\n",
    "colors = plt.cm.tab20(np.linspace(0, 1, 13)) # for more colors: [Matplotlib Colormaps](https://matplotlib.org/stable/users/explain/colors/colormaps.html)\n",
    "\n",
    "plt.scatter(current_pulse_amplitudes,mean_membrane_potential, color= colors, zorder= 2)\n",
    "plt.plot(current_pulse_amplitudes,mean_membrane_potential,'-', color = 'k', alpha = 0.5, zorder=1)\n",
    "plt.xlabel(f\"Currents (pA)\", size = 15)\n",
    "plt.ylabel(f\"Mean Membrane potential ({signal.units.dimensionality})\", size = 15)\n",
    "\n",
    "ax = plt.gca() # Learn more on gca here: [Matplotlib gca](https://matplotlib.org/stable/api/_as_gen/matplotlib.pyplot.gca.html)\n",
    "\n",
    "ax.set_xlim(-250,450)\n",
    "ax.set_xticks([-200,-100,0,100,200,300,400,450])\n",
    "ax.set_xticklabels(['-200','-100','0','100','200','300','400', ' '], size = 12)\n",
    "ax.tick_params(axis='x', which='major', size=5) \n",
    "ax.set_xticks([-250,-150,50,-50,150,250,350], minor=True) \n",
    "ax.tick_params(axis='x', which='minor', size=3) \n",
    "\n",
    "ax.set_ylim(-85,-40)\n",
    "ax.set_yticks([-80,-70,-60,-50,-40])\n",
    "ax.set_yticklabels(['-80','-70','-60','-50','-40'], size = 12)\n",
    "ax.tick_params(axis='y', which='major', size=5) \n",
    "ax.set_yticks([-85,-75,-65,-55,-45], minor=True) \n",
    "ax.tick_params(axis='y', which='minor', size=3) \n",
    "\n",
    "ax.spines['top'].set_visible(False)\n",
    "ax.spines['right'].set_visible(False)\n",
    "\n",
    "plt.show()"
   ]
  },
  {
   "cell_type": "markdown",
   "id": "aa06fc5d",
   "metadata": {},
   "source": [
    "**EXERCISE: Reproduce this figure**\n",
    "\n",
    "HINT:\n",
    "\n",
    "from matplotlib.ticker import MultipleLocator\n",
    "\n",
    "for i in range(len(current_pulse_amplitudes)):\n",
    "    plt.annotate(f'{annotation_points[i]}', \n",
    "                 (current_pulse_amplitudes[i], mean_membrane_potential[i]),        \n",
    "                 textcoords=\"offset points\", \n",
    "                 xytext=(5,-10),       \n",
    "                 ha='left')        \n",
    "\n",
    "ax = gca()\n",
    "\n",
    "ax.set_xlim(-250,450)\n",
    "ax.set_xticks([-200,-100,0,100,200,300,400,450])\n",
    "ax.set_xticklabels(['-200','-100','0','100','200','300','400', ' '], size = 12)\n",
    "ax.tick_params(axis='...', which='...', size=5) \n",
    "ax.set_xticks([-250,-150,50,-50,150,250,350], minor=True) \n",
    "ax.tick_params(axis='...', which='...', size=3) \n",
    "\n",
    "ax.set_ylim(-85,-40)\n",
    "ax.set_yticks([-80,-70,-60,-50,-40])\n",
    "ax.set_yticklabels(['-80','-70','-60','-50','-40'], size = 12)\n",
    "ax.set_yticks([-85,-75,-65,-55,-45], minor=True) \n",
    "ax.yaxis.set_minor_locator(...(1))   \n",
    "ax.yaxis.set_major_locator(...(5))   \n",
    "ax.tick_params(axis='...', which='minor', size=3) \n",
    "ax.tick_params(axis='...', which='major', size=5) \n",
    "\n",
    "ax.spines['...'].set_visible(False)\n",
    "ax.spines['...'].set_visible(False)\n",
    "\n",
    "plt.show()"
   ]
  },
  {
   "cell_type": "markdown",
   "id": "77e44fff",
   "metadata": {},
   "source": [
    "![title](Figmatplotlib.png) \n"
   ]
  },
  {
   "cell_type": "code",
   "execution_count": 15,
   "id": "762be392",
   "metadata": {},
   "outputs": [
    {
     "data": {
      "image/png": "[encoded data removed]",
      "text/plain": [
       "<Figure size 640x480 with 1 Axes>"
      ]
     },
     "metadata": {},
     "output_type": "display_data"
    }
   ],
   "source": [
    "from matplotlib.ticker import MultipleLocator\n",
    "\n",
    "\n",
    "mean_membrane_potential = []\n",
    "value_second = 0.6\n",
    "\n",
    "data = get_io('downloads/APPPS1_mouse_model_3-4_months/191129000_S23.abf').read(lazy=True)\n",
    "for segment in data[0].segments:\n",
    "    signal = segment.analogsignals[0].load()\n",
    "    indices_1s = np.where((signal.times - signal.t_start) <= value_second)[0]\n",
    "\n",
    "    mean_membrane_potential.append(np.mean(signal.magnitude[indices_1s]))\n",
    "\n",
    "# Plot & layout  \n",
    "# \n",
    "# Main Graph\n",
    "plt.figure(figsize=(8, 6), dpi=80)  \n",
    "colors = plt.cm.tab20(np.linspace(0, 1, 13))\n",
    "plt.scatter(current_pulse_amplitudes,mean_membrane_potential, color= colors, zorder= 2)\n",
    "plt.plot(current_pulse_amplitudes,mean_membrane_potential,'-', color = 'k', alpha = 0.5, zorder=1)\n",
    "plt.xlabel(f\"Currents (pA)\", size = 15)\n",
    "plt.ylabel(f\"Mean Membrane potential ({signal.units.dimensionality})\", size = 15)\n",
    "\n",
    "# Graph Annotations\n",
    "# \n",
    "# Here more information: [Matplotlib annotate](https://matplotlib.org/stable/api/_as_gen/matplotlib.pyplot.annotate.html)\n",
    "annotation_points = ['point1','point2','point3','point4',' ',' ',' ',' ',' ',' ',' ','point12','point13']\n",
    "for i in range(len(current_pulse_amplitudes)):\n",
    "    plt.annotate(f'{annotation_points[i]}', \n",
    "                 (current_pulse_amplitudes[i], mean_membrane_potential[i]),        \n",
    "                 textcoords=\"offset points\", \n",
    "                 xytext=(5,-10),       \n",
    "                 ha='left')        \n",
    "\n",
    "# Layout\n",
    "ax = plt.gca()\n",
    "\n",
    "ax.set_xlim(-250,450)\n",
    "ax.set_xticks([-200,-100,0,100,200,300,400,450])\n",
    "ax.set_xticklabels(['-200','-100','0','100','200','300','400', ' '], size = 12)\n",
    "ax.tick_params(axis='x', which='major', size=5) \n",
    "ax.set_xticks([-250,-150,50,-50,150,250,350], minor=True) \n",
    "ax.tick_params(axis='x', which='minor', size=3) \n",
    "\n",
    "ax.set_ylim(-85,-40)\n",
    "ax.set_yticks([-80,-70,-60,-50,-40])\n",
    "ax.set_yticklabels(['-80','-70','-60','-50','-40'], size = 12)\n",
    "ax.set_yticks([-85,-75,-65,-55,-45], minor=True) \n",
    "ax.yaxis.set_minor_locator(MultipleLocator(1))   \n",
    "ax.yaxis.set_major_locator(MultipleLocator(5))   \n",
    "ax.tick_params(axis='y', which='minor', size=3) \n",
    "ax.tick_params(axis='y', which='major', size=5) \n",
    "\n",
    "ax.spines['top'].set_visible(False)\n",
    "ax.spines['right'].set_visible(False)\n",
    "\n",
    "plt.show()"
   ]
  },
  {
   "cell_type": "markdown",
   "id": "b7a2530f",
   "metadata": {},
   "source": [
    "**EXERCISE: Create subplots next to the points by filling the gaps**"
   ]
  },
  {
   "cell_type": "code",
   "execution_count": null,
   "id": "315f3c2a",
   "metadata": {},
   "outputs": [],
   "source": [
    "# Fill the gaps: \n",
    "\n",
    "from mpl_toolkits.axes_grid1.inset_locator import inset_axes\n",
    "\n",
    "mean_membrane_potential = []\n",
    "value_second = 0.6\n",
    "\n",
    "data = get_io('downloads/APPPS1_mouse_model_3-4_months/191129000_S23.abf').read(lazy=True)\n",
    "for segment in data[0].segments:\n",
    "    signal = segment.analogsignals[0].load()\n",
    "    indices_1s = np.where((signal.times - signal.t_start) <= value_second)[0]\n",
    "\n",
    "    mean_membrane_potential.append(np.mean(signal.magnitude[indices_1s]))\n",
    "\n",
    "# Plot & layout  \n",
    "# \n",
    "fig, ax = plt.subplots(figsize=(18, 12))  \n",
    "\n",
    "# Main Graph  \n",
    "colors = plt.cm.tab20(np.linspace(0, 1, 13))\n",
    "plt.scatter(current_pulse_amplitudes,mean_membrane_potential, color= colors, zorder= 2)\n",
    "plt.plot(current_pulse_amplitudes,mean_membrane_potential,'-', color = 'k', alpha = 0.5, zorder=1)\n",
    "plt.xlabel(f\"Currents (pA)\", size = 15)\n",
    "plt.ylabel(f\"Mean Membrane potential ({signal.units.dimensionality})\", size = 15)\n",
    "\n",
    "# Graph Annotations\n",
    "annotation_points = ['point1','point2','point3','point4',' ',' ',' ',' ',' ',' ',' ','point12','point13']\n",
    "for i in range(len(current_pulse_amplitudes)):\n",
    "    plt.annotate(f'{annotation_points[i]}', \n",
    "                 (current_pulse_amplitudes[i], mean_membrane_potential[i]),        \n",
    "                 textcoords=\"offset points\", \n",
    "                 xytext=(-15,2),       \n",
    "                 ha='right',\n",
    "                 size=15)        \n",
    "\n",
    "# Subplots  \n",
    "for i, segment in enumerate(data[0].segments):\n",
    "    signal = segment.analogsignals[0].load()\n",
    "    indices_vs = np.where((signal.times - signal.t_start) <= value_second)[0]\n",
    "\n",
    "    signal_vs = signal.magnitude[indices_vs]\n",
    "    time_vs = signal.times[indices_vs]\n",
    "\n",
    "    # creates boxes next to each point\n",
    "    inset = inset_axes(ax,\n",
    "                       width=\"200%\", height=\"100%\",\n",
    "                       loc=\"...\",\n",
    "                       bbox_to_anchor=(current_pulse_amplitudes[i], mean_membrane_potential[i], 20, 3),  # Anchor the box\n",
    "                       bbox_transform=ax.transData, \n",
    "                       borderpad=5)\n",
    "    \n",
    "    # inserts plots in boxes\n",
    "    inset.plot(...,  color=colors[i])\n",
    "    \n",
    "    # Remove spines of all boxes\n",
    "    for spine in inset.spines.values():\n",
    "        spine.set...\n",
    "    \n",
    "    # Remove ticks for all boxes\n",
    "    inset.set_xticks([])\n",
    "\n",
    "# Move the main axes\n",
    "ax.spines['bottom']...(('data',-87))\n",
    "ax.spines['left']....(('data',-250))\n",
    "\n",
    "#\n",
    "ax.spines['top'].set_visible(False)\n",
    "ax.spines['right'].set_visible(False)\n",
    "\n",
    "ax.set_xlim(-250,450)\n",
    "ax.set_xticks([-200,-100,0,100,200,300,400,450])\n",
    "ax.set_xticklabels(['-200','-100','0','100','200','300','400', ' '], size = 12)\n",
    "ax.tick_params(axis='x', which='major', size=7) \n",
    "ax.set_xticks([-250,-150,50,-50,150,250,350], minor=True) \n",
    "ax.tick_params(axis='x', which='minor', size=5) \n",
    "\n",
    "ax.set_ylim(-87,-40)\n",
    "ax.set_yticks([-80,-70,-60,-50,-40])\n",
    "ax.set_yticklabels(['-80','-70','-60','-50','-40'], size = 12)\n",
    "ax.tick_params(axis='y', which='major', size=7) \n",
    "ax.set_yticks([-85,-75,-65,-55,-45], minor=True) \n",
    "ax.tick_params(axis='y', which='minor', size=5) \n",
    "ax.yaxis.set_minor_locator(MultipleLocator(1))   \n",
    "ax.yaxis.set_major_locator(MultipleLocator(5))   \n",
    "\n",
    "plt.show()"
   ]
  },
  {
   "cell_type": "code",
   "execution_count": null,
   "id": "d7110646",
   "metadata": {},
   "outputs": [],
   "source": [
    "from mpl_toolkits.axes_grid1.inset_locator import inset_axes\n",
    "\n",
    "mean_membrane_potential = []\n",
    "value_second = 0.6\n",
    "\n",
    "data = get_io('downloads/APPPS1_mouse_model_3-4_months/191129000_S23.abf').read(lazy=True)\n",
    "for segment in data[0].segments:\n",
    "    signal = segment.analogsignals[0].load()\n",
    "    indices_1s = np.where((signal.times - signal.t_start) <= value_second)[0]\n",
    "    mean_membrane_potential.append(np.mean(signal.magnitude[indices_1s]))\n",
    "\n",
    "# Plot & layout  \n",
    "# \n",
    "fig, ax = plt.subplots(figsize=(18, 12), dpi=80)  \n",
    "\n",
    "# Main Graph  \n",
    "colors = plt.cm.tab20(np.linspace(0, 1, 13))\n",
    "plt.scatter(current_pulse_amplitudes,mean_membrane_potential, color= colors, zorder= 2)\n",
    "plt.plot(current_pulse_amplitudes,mean_membrane_potential,'-', color = 'k', alpha = 0.5, zorder=1)\n",
    "plt.xlabel(f\"Currents (pA)\", size = 15)\n",
    "plt.ylabel(f\"Mean Membrane potential ({signal.units.dimensionality})\", size = 15)\n",
    "\n",
    "# Graph Annotations\n",
    "annotation_points = ['point1','point2','point3','point4',' ',' ',' ',' ',' ',' ',' ','point12','point13']\n",
    "for i in range(len(current_pulse_amplitudes)):\n",
    "    plt.annotate(f'{annotation_points[i]}', \n",
    "                 (current_pulse_amplitudes[i], mean_membrane_potential[i]),        \n",
    "                 textcoords=\"offset points\", \n",
    "                 xytext=(-15,2),       \n",
    "                 ha='right',\n",
    "                 size=15)        \n",
    "\n",
    "# Subplots  \n",
    "for i, segment in enumerate(data[0].segments):\n",
    "    signal = segment.analogsignals[0].load()\n",
    "    indices_vs = np.where((signal.times - signal.t_start) <= value_second)[0]\n",
    "\n",
    "    signal_vs = signal.magnitude[indices_vs]\n",
    "    time_vs = signal.times[indices_vs]\n",
    "\n",
    "    # creates boxes next to each point\n",
    "    #\n",
    "    # learn more on inset_axes: [Matplotlib inset_axes](https://matplotlib.org/stable/api/_as_gen/matplotlib.axes.Axes.inset_axes.html)(https://matplotlib.org/stable/gallery/axes_grid1/inset_locator_demo.html)\n",
    "    inset = inset_axes(ax,\n",
    "                       width=\"200%\", height=\"100%\",\n",
    "                       loc=\"upper left\",\n",
    "                       bbox_to_anchor=(current_pulse_amplitudes[i], mean_membrane_potential[i], 20, 3),  # Anchor the box\n",
    "                       bbox_transform=ax.transData, \n",
    "                       borderpad=5)\n",
    "    \n",
    "    # inserts plots in boxes\n",
    "    inset.plot(time_vs,signal_vs,  color=colors[i])\n",
    "    \n",
    "    # Remove spines of all boxes\n",
    "    for spine in inset.spines.values():\n",
    "        spine.set_visible(False)\n",
    "    \n",
    "    # Remove ticks for all boxes\n",
    "    inset.set_xticks([])\n",
    "    inset.set_yticks([])\n",
    "\n",
    "# Move the main axes\n",
    "ax.spines['bottom'].set_position(('data',-87))\n",
    "ax.spines['left'].set_position(('data',-250))\n",
    "ax.spines['top'].set_visible(False)\n",
    "ax.spines['right'].set_visible(False)\n",
    "\n",
    "ax.set_xlim(-250,450)\n",
    "ax.set_xticks([-200,-100,0,100,200,300,400,450])\n",
    "ax.set_xticklabels(['-200','-100','0','100','200','300','400', ' '], size = 12)\n",
    "ax.tick_params(axis='x', which='major', size=7) \n",
    "ax.set_xticks([-250,-150,50,-50,150,250,350], minor=True) \n",
    "ax.tick_params(axis='x', which='minor', size=5) \n",
    "\n",
    "ax.set_ylim(-87,-40)\n",
    "ax.set_yticks([-80,-70,-60,-50,-40])\n",
    "ax.set_yticklabels(['-80','-70','-60','-50','-40'], size = 12)\n",
    "ax.tick_params(axis='y', which='major', size=7) \n",
    "ax.set_yticks([-85,-75,-65,-55,-45], minor=True) \n",
    "ax.tick_params(axis='y', which='minor', size=5) \n",
    "ax.yaxis.set_minor_locator(MultipleLocator(1))   \n",
    "ax.yaxis.set_major_locator(MultipleLocator(5))   \n",
    "\n",
    "# Comments: don't forget to put the legend with plt.legend(): [Matplotlib legend](https://matplotlib.org/stable/api/_as_gen/matplotlib.pyplot.legend.html)\n",
    "\n",
    "plt.show()"
   ]
  },
  {
   "cell_type": "markdown",
   "id": "7c382000",
   "metadata": {},
   "source": [
    "### Creating a Neo object"
   ]
  },
  {
   "cell_type": "markdown",
   "id": "04c96bda",
   "metadata": {},
   "source": [
    "In this last section, we will create a Neo object from hypothetical data provided in the Minischool_NeuralNet2024_data_example.xlsx file.\\\n",
    "This tutorial will demonstrate how to structure tand obtain an object. To go further and to have more insight of sharing data in an open format you can consult [Sharing neuroscience data in an open format](https://neo.readthedocs.io/en/latest/share_data.html).Additionally, you can find how to convert NIX format to NWB and vice-versa [NIX-NWB](https://github.com/G-Node/nix-nwb)"
   ]
  },
  {
   "cell_type": "markdown",
   "id": "d965124e",
   "metadata": {},
   "source": [
    "Let us start!\\\n",
    "We use pandas package to acces and visualize the data. "
   ]
  },
  {
   "cell_type": "code",
   "execution_count": null,
   "id": "7db15966",
   "metadata": {},
   "outputs": [],
   "source": [
    "import pandas as pd\n",
    "df_data = pd.read_excel(\"Minischool_NeuralNet2024_data_example.xlsx\")\n",
    "df_data"
   ]
  },
  {
   "cell_type": "markdown",
   "id": "7a5cb324",
   "metadata": {},
   "source": [
    "To do so, we create a function to convert the pandas columns into numpy arrays. The function also store the array in a dictionnary to facilitate the accessibility. "
   ]
  },
  {
   "cell_type": "code",
   "execution_count": null,
   "id": "5f083935",
   "metadata": {},
   "outputs": [],
   "source": [
    "def pandas_to_numpy(df):\n",
    "    arrays = {}\n",
    "    for col in df.columns:\n",
    "        arrays[col] = df[col].to_numpy()\n",
    "    return arrays\n"
   ]
  },
  {
   "cell_type": "markdown",
   "id": "b7fd7e3f",
   "metadata": {},
   "source": [
    "Let's have a look: "
   ]
  },
  {
   "cell_type": "code",
   "execution_count": null,
   "id": "629c47dd",
   "metadata": {},
   "outputs": [],
   "source": [
    "data = pandas_to_numpy(df_data)\n",
    "data.keys()"
   ]
  },
  {
   "cell_type": "markdown",
   "id": "d1fd93a3",
   "metadata": {},
   "source": [
    "We will now create the Neo object according to the structure explained above:\\\n",
    "We start with formating the signals in AnalogSignals"
   ]
  },
  {
   "cell_type": "code",
   "execution_count": null,
   "id": "821b3e76",
   "metadata": {},
   "outputs": [],
   "source": [
    "from neo.core import AnalogSignal,Segment,Block\n",
    "import quantities as pq\n",
    "\n",
    "sig0 = AnalogSignal(data['Signal 1'], units='V', sampling_rate=1000*pq.Hz, t_start=0*pq.ms)\n",
    "sig1 = AnalogSignal(data['Signal 2'], units='V', sampling_rate=1000*pq.Hz, t_start=0*pq.ms)\n",
    "sig2 = AnalogSignal(data['Signal 3'], units='V', sampling_rate=1000*pq.Hz, t_start=0*pq.ms)\n",
    "sig3 = AnalogSignal(data['Signal 4'], units='V', sampling_rate=1000*pq.Hz, t_start=0*pq.ms)\n",
    "sig4 = AnalogSignal(data['Signal 5'], units='V', sampling_rate=1000*pq.Hz, t_start=0*pq.ms)\n",
    "sig4\n",
    "    "
   ]
  },
  {
   "cell_type": "markdown",
   "id": "bdc45ce6",
   "metadata": {},
   "source": [
    "And then, we create the block containing 1 segment and 5 signals(analogsignals)"
   ]
  },
  {
   "cell_type": "code",
   "execution_count": null,
   "id": "75643919-6e47-4c3e-b9a4-2fe7a3836ab0",
   "metadata": {},
   "outputs": [],
   "source": [
    "blk = Block()\n",
    "for ind in range(1):\n",
    "    seg = Segment(name='segment %d' % ind, index=5)\n",
    "    blk.segments.append(seg)"
   ]
  },
  {
   "cell_type": "markdown",
   "id": "4d4506e8-856b-406f-9f99-251a867b814e",
   "metadata": {},
   "source": [
    "Now, let's add signals. "
   ]
  },
  {
   "cell_type": "code",
   "execution_count": null,
   "id": "8aef8c49-5342-452c-9332-c6b175c8df20",
   "metadata": {},
   "outputs": [],
   "source": [
    "for seg in blk.segments:\n",
    "    seg.analogsignals.append(sig0)\n",
    "    seg.analogsignals.append(sig1)\n",
    "    seg.analogsignals.append(sig2)\n",
    "    seg.analogsignals.append(sig3)\n",
    "    seg.analogsignals.append(sig4)"
   ]
  },
  {
   "cell_type": "markdown",
   "id": "a265dd81-aafb-4027-92f1-848a52f431f8",
   "metadata": {},
   "source": [
    "We can now have a look of the full structure"
   ]
  },
  {
   "cell_type": "code",
   "execution_count": null,
   "id": "ebf5c276-9bb3-4787-aa0d-068e653ea2a6",
   "metadata": {},
   "outputs": [],
   "source": [
    "for i in range(0,5):\n",
    "    signal = blk.segments[0].analogsignals[i]\n",
    "    plt.plot(signal.times, signal)\n",
    "plt.xlabel(f\"Time ({sig.times.units.dimensionality})\")\n",
    "plt.ylabel(f\"Membrane potential ({sig.units.dimensionality})\")  \n"
   ]
  },
  {
   "cell_type": "markdown",
   "id": "3350304e",
   "metadata": {},
   "source": [
    "To go further, you can check this example: https://neo.readthedocs.io/en/latest/share_data.html#nix"
   ]
  }
 ],
 "metadata": {
  "kernelspec": {
   "display_name": "Python 3 (ipykernel)",
   "language": "python",
   "name": "python3"
  },
  "language_info": {
   "codemirror_mode": {
    "name": "ipython",
    "version": 3
   },
   "file_extension": ".py",
   "mimetype": "text/x-python",
   "name": "python",
   "nbconvert_exporter": "python",
   "pygments_lexer": "ipython3",
   "version": "3.8.10"
  }
 },
 "nbformat": 4,
 "nbformat_minor": 5
}
